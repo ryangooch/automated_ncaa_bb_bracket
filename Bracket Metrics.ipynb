{
 "cells": [
  {
   "cell_type": "code",
   "execution_count": null,
   "metadata": {},
   "outputs": [],
   "source": [
    "import numpy as np\n",
    "import pandas as pd\n",
    "from metrics import Bracketeer"
   ]
  },
  {
   "cell_type": "code",
   "execution_count": null,
   "metadata": {},
   "outputs": [],
   "source": [
    "b = Bracketeer()"
   ]
  },
  {
   "cell_type": "code",
   "execution_count": null,
   "metadata": {},
   "outputs": [],
   "source": [
    "b.print_polls()"
   ]
  },
  {
   "cell_type": "code",
   "execution_count": null,
   "metadata": {},
   "outputs": [],
   "source": [
    "b.get_conferences()"
   ]
  },
  {
   "cell_type": "code",
   "execution_count": null,
   "metadata": {},
   "outputs": [],
   "source": [
    "# # # Want to work on adding partial conference winners functionality\n",
    "conference_winners = {conf:None for conf in b.get_conferences()}\n",
    "\n",
    "conference_winners['OVC'] = 'Murray St'\n",
    "conference_winners['BSo'] = 'Gardner Webb'\n",
    "conference_winners['MVC'] = 'Bradley'\n",
    "conference_winners['ASUN']= 'Liberty'\n",
    "conference_winners['SC']  = 'Wofford'\n",
    "conference_winners['MAAC']= 'Iona'\n",
    "conference_winners['HL']  = 'N Kentucky'\n",
    "conference_winners['NEC'] = 'F Dickinson'\n",
    "conference_winners['CAA'] = 'Northeastern'\n",
    "conference_winners['SL']  = 'N Dakota St'\n",
    "conference_winners['WCC'] = \"St Mary's CA\"\n",
    "conference_winners['PL'] = 'Colgate'\n",
    "conference_winners['AEC'] = 'Vermont'\n",
    "conference_winners['MEAC'] = 'NC Central'\n",
    "conference_winners['B12'] = 'Iowa St'\n",
    "conference_winners['MWC'] = 'Utah St'\n",
    "conference_winners['SWAC'] = 'Prairie View'\n",
    "conference_winners['BE'] = 'Villanova'\n",
    "conference_winners['MAC'] = 'Buffalo'\n",
    "conference_winners['BSC'] = 'Montana'\n",
    "conference_winners['CUSA'] = 'Old Dominion'\n",
    "conference_winners['ACC'] = 'Duke'\n",
    "conference_winners[\"SLC\"] = 'Abilene Chr'\n",
    "conference_winners['WAC'] = 'New Mexico St'\n",
    "conference_winners['P12'] = 'Oregon'\n",
    "conference_winners['BWC'] = 'UC Irvine'\n",
    "conference_winners['Ivy'] = 'Yale'\n",
    "conference_winners['SEC'] = 'Auburn'\n",
    "conference_winners['A10'] = 'St Louis'\n",
    "conference_winners['SBC'] = 'Georgia St'\n",
    "conference_winners['AAC'] = 'Cincinnati'\n",
    "conference_winners['B10'] = 'Michigan St'"
   ]
  },
  {
   "cell_type": "code",
   "execution_count": null,
   "metadata": {},
   "outputs": [],
   "source": [
    "comp_polls = ['POM','7OT','SAG','NET','EBP']\n",
    "\n",
    "def rank_calc(x, y):\n",
    "    if np.isnan(y) :\n",
    "        return x\n",
    "    else:\n",
    "        return ((3 * x + y) / 4.)\n",
    "\n",
    "b.get_tourney_teams(\n",
    "    comp_polls = comp_polls,\n",
    "    rank_calc_func = rank_calc,\n",
    "    conf_winners = conference_winners,\n",
    "    human_polls = True\n",
    ")"
   ]
  },
  {
   "cell_type": "code",
   "execution_count": null,
   "metadata": {},
   "outputs": [],
   "source": [
    "b.final_68"
   ]
  },
  {
   "cell_type": "code",
   "execution_count": null,
   "metadata": {},
   "outputs": [],
   "source": [
    "b.fill_bracket()"
   ]
  },
  {
   "cell_type": "markdown",
   "metadata": {},
   "source": [
    "## With Ratings Data\n",
    "Only 'DOK', 'POM', and 'BPI' supported right now"
   ]
  },
  {
   "cell_type": "code",
   "execution_count": 1,
   "metadata": {},
   "outputs": [],
   "source": [
    "import numpy as np\n",
    "import pandas as pd\n",
    "from metrics import Bracketeer"
   ]
  },
  {
   "cell_type": "code",
   "execution_count": 2,
   "metadata": {},
   "outputs": [],
   "source": [
    "b = Bracketeer()"
   ]
  },
  {
   "cell_type": "code",
   "execution_count": 3,
   "metadata": {},
   "outputs": [],
   "source": [
    "# Want to work on adding partial conference winners functionality\n",
    "conference_winners = {conf:None for conf in b.get_conferences()}\n",
    "\n",
    "conference_winners['OVC'] = 'Murray St'\n",
    "conference_winners['BSo'] = 'Gardner Webb'\n",
    "conference_winners['MVC'] = 'Bradley'\n",
    "conference_winners['ASUN']= 'Liberty'\n",
    "conference_winners['SC']  = 'Wofford'\n",
    "conference_winners['MAAC']= 'Iona'\n",
    "conference_winners['HL']  = 'N Kentucky'\n",
    "conference_winners['NEC'] = 'F Dickinson'\n",
    "conference_winners['CAA'] = 'Northeastern'\n",
    "conference_winners['SL']  = 'N Dakota St'\n",
    "conference_winners['WCC'] = \"St Mary's CA\"\n",
    "conference_winners['PL'] = 'Colgate'\n",
    "conference_winners['AEC'] = 'Vermont'\n",
    "conference_winners['MEAC'] = 'NC Central'\n",
    "conference_winners['B12'] = 'Iowa St'\n",
    "conference_winners['MWC'] = 'Utah St'\n",
    "conference_winners['SWAC'] = 'Prairie View'\n",
    "conference_winners['BE'] = 'Villanova'\n",
    "conference_winners['MAC'] = 'Buffalo'\n",
    "conference_winners['BSC'] = 'Montana'\n",
    "conference_winners['CUSA'] = 'Old Dominion'\n",
    "conference_winners['ACC'] = 'Duke'\n",
    "conference_winners[\"SLC\"] = 'Abilene Chr'\n",
    "conference_winners['WAC'] = 'New Mexico St'\n",
    "conference_winners['P12'] = 'Oregon'\n",
    "conference_winners['BWC'] = 'UC Irvine'\n",
    "conference_winners['Ivy'] = 'Yale'\n",
    "conference_winners['SEC'] = 'Auburn'\n",
    "conference_winners['A10'] = 'St Louis'\n",
    "conference_winners['SBC'] = 'Georgia St'\n",
    "conference_winners['AAC'] = 'Cincinnati'\n",
    "conference_winners['B10'] = 'Michigan St'"
   ]
  },
  {
   "cell_type": "code",
   "execution_count": 4,
   "metadata": {},
   "outputs": [
    {
     "name": "stdout",
     "output_type": "stream",
     "text": [
      "Downloading Ratings Data\n",
      "Downloading Finished!\n"
     ]
    }
   ],
   "source": [
    "comp_polls = ['POM','DOK','EBP']\n",
    "\n",
    "def rank_calc(x, y):\n",
    "    if np.isnan(y) :\n",
    "        return x\n",
    "    else:\n",
    "        return ((3 * x + y) / 4.)\n",
    "\n",
    "b.get_tourney_teams(\n",
    "    comp_polls = comp_polls,\n",
    "    rank_calc_func = rank_calc,\n",
    "    conf_winners = conference_winners,\n",
    "    human_polls = False,\n",
    "    use_metrics = True\n",
    ")"
   ]
  },
  {
   "cell_type": "code",
   "execution_count": 6,
   "metadata": {},
   "outputs": [
    {
     "data": {
      "text/html": [
       "<div>\n",
       "<style scoped>\n",
       "    .dataframe tbody tr th:only-of-type {\n",
       "        vertical-align: middle;\n",
       "    }\n",
       "\n",
       "    .dataframe tbody tr th {\n",
       "        vertical-align: top;\n",
       "    }\n",
       "\n",
       "    .dataframe thead th {\n",
       "        text-align: right;\n",
       "    }\n",
       "</style>\n",
       "<table border=\"1\" class=\"dataframe\">\n",
       "  <thead>\n",
       "    <tr style=\"text-align: right;\">\n",
       "      <th></th>\n",
       "      <th>Team</th>\n",
       "      <th>Conf</th>\n",
       "      <th>comp_mean</th>\n",
       "      <th>seed</th>\n",
       "    </tr>\n",
       "  </thead>\n",
       "  <tbody>\n",
       "    <tr>\n",
       "      <th>0</th>\n",
       "      <td>Virginia</td>\n",
       "      <td>ACC</td>\n",
       "      <td>2.898813</td>\n",
       "      <td>1</td>\n",
       "    </tr>\n",
       "    <tr>\n",
       "      <th>3</th>\n",
       "      <td>Gonzaga</td>\n",
       "      <td>WCC</td>\n",
       "      <td>2.884862</td>\n",
       "      <td>1</td>\n",
       "    </tr>\n",
       "    <tr>\n",
       "      <th>1</th>\n",
       "      <td>Duke</td>\n",
       "      <td>ACC</td>\n",
       "      <td>2.701192</td>\n",
       "      <td>1</td>\n",
       "    </tr>\n",
       "    <tr>\n",
       "      <th>4</th>\n",
       "      <td>Michigan St</td>\n",
       "      <td>B10</td>\n",
       "      <td>2.461787</td>\n",
       "      <td>1</td>\n",
       "    </tr>\n",
       "    <tr>\n",
       "      <th>2</th>\n",
       "      <td>North Carolina</td>\n",
       "      <td>ACC</td>\n",
       "      <td>2.442737</td>\n",
       "      <td>2</td>\n",
       "    </tr>\n",
       "    <tr>\n",
       "      <th>6</th>\n",
       "      <td>Kentucky</td>\n",
       "      <td>SEC</td>\n",
       "      <td>2.283840</td>\n",
       "      <td>2</td>\n",
       "    </tr>\n",
       "    <tr>\n",
       "      <th>7</th>\n",
       "      <td>Michigan</td>\n",
       "      <td>B10</td>\n",
       "      <td>2.274240</td>\n",
       "      <td>2</td>\n",
       "    </tr>\n",
       "    <tr>\n",
       "      <th>5</th>\n",
       "      <td>Tennessee</td>\n",
       "      <td>SEC</td>\n",
       "      <td>2.227599</td>\n",
       "      <td>2</td>\n",
       "    </tr>\n",
       "    <tr>\n",
       "      <th>8</th>\n",
       "      <td>Texas Tech</td>\n",
       "      <td>B12</td>\n",
       "      <td>2.152484</td>\n",
       "      <td>3</td>\n",
       "    </tr>\n",
       "    <tr>\n",
       "      <th>11</th>\n",
       "      <td>Purdue</td>\n",
       "      <td>B10</td>\n",
       "      <td>2.093980</td>\n",
       "      <td>3</td>\n",
       "    </tr>\n",
       "    <tr>\n",
       "      <th>15</th>\n",
       "      <td>Virginia Tech</td>\n",
       "      <td>ACC</td>\n",
       "      <td>1.974658</td>\n",
       "      <td>3</td>\n",
       "    </tr>\n",
       "    <tr>\n",
       "      <th>12</th>\n",
       "      <td>Auburn</td>\n",
       "      <td>SEC</td>\n",
       "      <td>1.932892</td>\n",
       "      <td>3</td>\n",
       "    </tr>\n",
       "    <tr>\n",
       "      <th>9</th>\n",
       "      <td>Houston</td>\n",
       "      <td>AAC</td>\n",
       "      <td>1.873079</td>\n",
       "      <td>4</td>\n",
       "    </tr>\n",
       "    <tr>\n",
       "      <th>10</th>\n",
       "      <td>Florida St</td>\n",
       "      <td>ACC</td>\n",
       "      <td>1.848715</td>\n",
       "      <td>4</td>\n",
       "    </tr>\n",
       "    <tr>\n",
       "      <th>17</th>\n",
       "      <td>Wisconsin</td>\n",
       "      <td>B10</td>\n",
       "      <td>1.827902</td>\n",
       "      <td>4</td>\n",
       "    </tr>\n",
       "    <tr>\n",
       "      <th>19</th>\n",
       "      <td>Iowa St</td>\n",
       "      <td>B12</td>\n",
       "      <td>1.791938</td>\n",
       "      <td>4</td>\n",
       "    </tr>\n",
       "  </tbody>\n",
       "</table>\n",
       "</div>"
      ],
      "text/plain": [
       "              Team Conf  comp_mean  seed\n",
       "0         Virginia  ACC   2.898813     1\n",
       "3          Gonzaga  WCC   2.884862     1\n",
       "1             Duke  ACC   2.701192     1\n",
       "4      Michigan St  B10   2.461787     1\n",
       "2   North Carolina  ACC   2.442737     2\n",
       "6         Kentucky  SEC   2.283840     2\n",
       "7         Michigan  B10   2.274240     2\n",
       "5        Tennessee  SEC   2.227599     2\n",
       "8       Texas Tech  B12   2.152484     3\n",
       "11          Purdue  B10   2.093980     3\n",
       "15   Virginia Tech  ACC   1.974658     3\n",
       "12          Auburn  SEC   1.932892     3\n",
       "9          Houston  AAC   1.873079     4\n",
       "10      Florida St  ACC   1.848715     4\n",
       "17       Wisconsin  B10   1.827902     4\n",
       "19         Iowa St  B12   1.791938     4"
      ]
     },
     "execution_count": 6,
     "metadata": {},
     "output_type": "execute_result"
    }
   ],
   "source": [
    "b.final_68[['Team','Conf','comp_mean','seed']].head(16)"
   ]
  },
  {
   "cell_type": "code",
   "execution_count": 7,
   "metadata": {},
   "outputs": [],
   "source": [
    "b.fill_bracket()"
   ]
  },
  {
   "cell_type": "code",
   "execution_count": null,
   "metadata": {},
   "outputs": [],
   "source": []
  }
 ],
 "metadata": {
  "kernelspec": {
   "display_name": "Python 3",
   "language": "python",
   "name": "python3"
  },
  "language_info": {
   "codemirror_mode": {
    "name": "ipython",
    "version": 3
   },
   "file_extension": ".py",
   "mimetype": "text/x-python",
   "name": "python",
   "nbconvert_exporter": "python",
   "pygments_lexer": "ipython3",
   "version": "3.7.1"
  }
 },
 "nbformat": 4,
 "nbformat_minor": 2
}
